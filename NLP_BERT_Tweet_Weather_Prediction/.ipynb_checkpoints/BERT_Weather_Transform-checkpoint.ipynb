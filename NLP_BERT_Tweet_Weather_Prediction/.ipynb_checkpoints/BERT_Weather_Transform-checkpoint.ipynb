{
 "cells": [
  {
   "cell_type": "code",
   "execution_count": 2,
   "metadata": {},
   "outputs": [],
   "source": [
    "# pip install transformers"
   ]
  },
  {
   "cell_type": "code",
   "execution_count": 2,
   "metadata": {},
   "outputs": [],
   "source": [
    "import pandas as pd\n",
    "import numpy as np\n",
    "import matplotlib as plt\n",
    "import os\n",
    "import torch\n",
    "from transformers import BertTokenizer, BertModel\n",
    "%matplotlib inline"
   ]
  },
  {
   "cell_type": "markdown",
   "metadata": {},
   "source": [
    "# Testing Embedding Conversion on Random Phrases "
   ]
  },
  {
   "cell_type": "code",
   "execution_count": 16,
   "metadata": {},
   "outputs": [],
   "source": [
    "df = pd.read_csv('random_phrases.csv', encoding = 'latin-1')"
   ]
  },
  {
   "cell_type": "code",
   "execution_count": 17,
   "metadata": {},
   "outputs": [
    {
     "data": {
      "text/html": [
       "<style  type=\"text/css\" >\n",
       "</style><table id=\"T_2ac54c46_993b_11ea_97fc_e4b318e8f160\" ><thead>    <tr>        <th class=\"blank level0\" ></th>        <th class=\"col_heading level0 col0\" >Phrases</th>    </tr></thead><tbody>\n",
       "                <tr>\n",
       "                        <th id=\"T_2ac54c46_993b_11ea_97fc_e4b318e8f160level0_row0\" class=\"row_heading level0 row0\" >0</th>\n",
       "                        <td id=\"T_2ac54c46_993b_11ea_97fc_e4b318e8f160row0_col0\" class=\"data row0 col0\" >It's difficult to understand the lengths he'd go to remain short.</td>\n",
       "            </tr>\n",
       "            <tr>\n",
       "                        <th id=\"T_2ac54c46_993b_11ea_97fc_e4b318e8f160level0_row1\" class=\"row_heading level0 row1\" >1</th>\n",
       "                        <td id=\"T_2ac54c46_993b_11ea_97fc_e4b318e8f160row1_col0\" class=\"data row1 col0\" >As he waited for the shower to warm, he noticed that he could hear water change temperature.</td>\n",
       "            </tr>\n",
       "            <tr>\n",
       "                        <th id=\"T_2ac54c46_993b_11ea_97fc_e4b318e8f160level0_row2\" class=\"row_heading level0 row2\" >2</th>\n",
       "                        <td id=\"T_2ac54c46_993b_11ea_97fc_e4b318e8f160row2_col0\" class=\"data row2 col0\" >She hadn't had her cup of coffee, and that made things all the worse.</td>\n",
       "            </tr>\n",
       "            <tr>\n",
       "                        <th id=\"T_2ac54c46_993b_11ea_97fc_e4b318e8f160level0_row3\" class=\"row_heading level0 row3\" >3</th>\n",
       "                        <td id=\"T_2ac54c46_993b_11ea_97fc_e4b318e8f160row3_col0\" class=\"data row3 col0\" >He would only survive if he kept the fire going and he could hear thunder in the distance.</td>\n",
       "            </tr>\n",
       "            <tr>\n",
       "                        <th id=\"T_2ac54c46_993b_11ea_97fc_e4b318e8f160level0_row4\" class=\"row_heading level0 row4\" >4</th>\n",
       "                        <td id=\"T_2ac54c46_993b_11ea_97fc_e4b318e8f160row4_col0\" class=\"data row4 col0\" >Car safety systems have come a long way, but he was out to prove they could be outsmarted.</td>\n",
       "            </tr>\n",
       "            <tr>\n",
       "                        <th id=\"T_2ac54c46_993b_11ea_97fc_e4b318e8f160level0_row5\" class=\"row_heading level0 row5\" >5</th>\n",
       "                        <td id=\"T_2ac54c46_993b_11ea_97fc_e4b318e8f160row5_col0\" class=\"data row5 col0\" >Thigh-high in the water, the fisherman's hope for dinner soon turned to despair.</td>\n",
       "            </tr>\n",
       "            <tr>\n",
       "                        <th id=\"T_2ac54c46_993b_11ea_97fc_e4b318e8f160level0_row6\" class=\"row_heading level0 row6\" >6</th>\n",
       "                        <td id=\"T_2ac54c46_993b_11ea_97fc_e4b318e8f160row6_col0\" class=\"data row6 col0\" >His thought process was on so many levels that he gave himself a phobia of heights.</td>\n",
       "            </tr>\n",
       "            <tr>\n",
       "                        <th id=\"T_2ac54c46_993b_11ea_97fc_e4b318e8f160level0_row7\" class=\"row_heading level0 row7\" >7</th>\n",
       "                        <td id=\"T_2ac54c46_993b_11ea_97fc_e4b318e8f160row7_col0\" class=\"data row7 col0\" >The beauty of the African sunset disguised the danger lurking nearby.</td>\n",
       "            </tr>\n",
       "            <tr>\n",
       "                        <th id=\"T_2ac54c46_993b_11ea_97fc_e4b318e8f160level0_row8\" class=\"row_heading level0 row8\" >8</th>\n",
       "                        <td id=\"T_2ac54c46_993b_11ea_97fc_e4b318e8f160row8_col0\" class=\"data row8 col0\" >She wondered what his eyes were saying beneath his mirrored sunglasses.</td>\n",
       "            </tr>\n",
       "            <tr>\n",
       "                        <th id=\"T_2ac54c46_993b_11ea_97fc_e4b318e8f160level0_row9\" class=\"row_heading level0 row9\" >9</th>\n",
       "                        <td id=\"T_2ac54c46_993b_11ea_97fc_e4b318e8f160row9_col0\" class=\"data row9 col0\" >His mind was blown that there was nothing in space except space itself.</td>\n",
       "            </tr>\n",
       "    </tbody></table>"
      ],
      "text/plain": [
       "<pandas.io.formats.style.Styler at 0x2775185de48>"
      ]
     },
     "execution_count": 17,
     "metadata": {},
     "output_type": "execute_result"
    }
   ],
   "source": [
    "df.style"
   ]
  },
  {
   "cell_type": "markdown",
   "metadata": {},
   "source": [
    "# Use huggingface Transformers library and Pytorch to covnert to embeddings"
   ]
  },
  {
   "cell_type": "code",
   "execution_count": 34,
   "metadata": {},
   "outputs": [
    {
     "data": {
      "application/vnd.jupyter.widget-view+json": {
       "model_id": "a23d8724a6a14297a0c514a8a6fc9254",
       "version_major": 2,
       "version_minor": 0
      },
      "text/plain": [
       "HBox(children=(FloatProgress(value=0.0, description='Downloading', max=213450.0, style=ProgressStyle(descripti…"
      ]
     },
     "metadata": {},
     "output_type": "display_data"
    },
    {
     "name": "stdout",
     "output_type": "stream",
     "text": [
      "\n"
     ]
    }
   ],
   "source": [
    "# Let's encode some text in a sequence of hidden-states using each model:\n",
    "\n",
    "# Load pre-trained model tokenizer (vocabulary)\n",
    "tokenizer = BertTokenizer.from_pretrained('bert-base-cased')"
   ]
  },
  {
   "cell_type": "markdown",
   "metadata": {},
   "source": [
    "# Show Tokenization"
   ]
  },
  {
   "cell_type": "code",
   "execution_count": 43,
   "metadata": {},
   "outputs": [],
   "source": [
    "tokens = []\n",
    "\n",
    "for i in df.Phrases:\n",
    "    a = tokenizer.tokenize(i)\n",
    "    tokens.append(a)"
   ]
  },
  {
   "cell_type": "code",
   "execution_count": 45,
   "metadata": {},
   "outputs": [
    {
     "data": {
      "text/plain": [
       "['It',\n",
       " \"'\",\n",
       " 's',\n",
       " 'difficult',\n",
       " 'to',\n",
       " 'understand',\n",
       " 'the',\n",
       " 'lengths',\n",
       " 'he',\n",
       " \"'\",\n",
       " 'd',\n",
       " 'go',\n",
       " 'to',\n",
       " 'remain',\n",
       " 'short',\n",
       " '.']"
      ]
     },
     "execution_count": 45,
     "metadata": {},
     "output_type": "execute_result"
    }
   ],
   "source": [
    "tokens[0]"
   ]
  },
  {
   "cell_type": "markdown",
   "metadata": {},
   "source": [
    "# Next these tokenized sequences need to be encoded"
   ]
  },
  {
   "cell_type": "code",
   "execution_count": 103,
   "metadata": {},
   "outputs": [],
   "source": [
    "embeds = []\n",
    "\n",
    "for i in tokens:\n",
    "    e = tokenizer.encode(i, add_special_tokens = True)\n",
    "    embeds.append(torch.tensor(e))"
   ]
  },
  {
   "cell_type": "code",
   "execution_count": 104,
   "metadata": {
    "scrolled": true
   },
   "outputs": [
    {
     "data": {
      "text/plain": [
       "tensor([  101,  1135,   112,   188,  2846,  1106,  2437,  1103, 10707,  1119,\n",
       "          112,   173,  1301,  1106,  3118,  1603,   119,   102])"
      ]
     },
     "execution_count": 104,
     "metadata": {},
     "output_type": "execute_result"
    }
   ],
   "source": [
    "test = embeds[0]\n",
    "test"
   ]
  },
  {
   "cell_type": "markdown",
   "metadata": {},
   "source": [
    "# Embeddings Get Passed Through Model"
   ]
  },
  {
   "cell_type": "code",
   "execution_count": 105,
   "metadata": {},
   "outputs": [],
   "source": [
    "model = BertModel.from_pretrained('bert-base-cased', output_hidden_states = True)"
   ]
  },
  {
   "cell_type": "code",
   "execution_count": 1,
   "metadata": {},
   "outputs": [],
   "source": [
    "#We aren't training so this will improve performance\n",
    "model.eval()"
   ]
  },
  {
   "cell_type": "markdown",
   "metadata": {},
   "source": [
    "## For modeling, different features are needed beyond the encodings which will be type_ids and attention masks. These can be pulled out at same time using 'encode_plus'"
   ]
  },
  {
   "cell_type": "code",
   "execution_count": null,
   "metadata": {},
   "outputs": [],
   "source": []
  },
  {
   "cell_type": "markdown",
   "metadata": {},
   "source": [
    "## Tying this all together to loop over multiple entries"
   ]
  },
  {
   "cell_type": "code",
   "execution_count": 146,
   "metadata": {},
   "outputs": [],
   "source": [
    "sent_list = []\n",
    "\n",
    "for sent in df.Phrases:\n",
    "    sent_list.append(tokenizer.encode_plus(sent, add_special_tokens = True))"
   ]
  },
  {
   "cell_type": "code",
   "execution_count": 151,
   "metadata": {},
   "outputs": [],
   "source": [
    "out = []\n",
    "\n",
    "# No grad call stops gradient calculation since we are not training but just passing information\n",
    "with torch.no_grad():\n",
    "    for item in sent_list:\n",
    "        out.append(model(torch.tensor([item.input_ids]),torch.tensor([item.attention_mask])))"
   ]
  },
  {
   "cell_type": "code",
   "execution_count": 4,
   "metadata": {},
   "outputs": [],
   "source": [
    "out[0]"
   ]
  },
  {
   "cell_type": "code",
   "execution_count": null,
   "metadata": {},
   "outputs": [],
   "source": []
  },
  {
   "cell_type": "markdown",
   "metadata": {},
   "source": [
    "## Output Explained\n",
    "\n",
    "__12-layer, 768-hidden, 12-heads, 110M parameters.__\n",
    "\n",
    "- __The first [] pulls the information for a specific sentence__\n",
    "- __The second [] is pulling the model output ... [0] gets last hidden layer ... [2] gets all the hidden layers__\n",
    "- __The third [] will be zero just to remove extra list bracket__\n",
    "- __The fourth [] returns the represenations for a specific word within the sentence all of these need to be rolled up__"
   ]
  },
  {
   "cell_type": "code",
   "execution_count": 182,
   "metadata": {},
   "outputs": [
    {
     "data": {
      "text/plain": [
       "tensor([[[ 0.3241,  0.1901, -0.1976,  ..., -0.3044,  0.2508, -0.0703],\n",
       "         [ 0.3889, -0.5495,  0.2118,  ..., -0.3423,  0.1257,  0.3257],\n",
       "         [ 0.1388,  0.4705,  0.1219,  ..., -0.0422,  0.5497,  0.2824],\n",
       "         ...,\n",
       "         [ 0.3689,  0.2699,  0.0428,  ..., -0.2972,  0.0283,  0.1942],\n",
       "         [ 0.9507,  0.7776, -0.1776,  ..., -0.2889,  0.3156, -0.8389],\n",
       "         [ 0.8533,  0.7912, -0.1580,  ..., -0.2216,  0.3560, -0.7550]]])"
      ]
     },
     "execution_count": 182,
     "metadata": {},
     "output_type": "execute_result"
    }
   ],
   "source": [
    "out[0][2][-1]"
   ]
  },
  {
   "cell_type": "code",
   "execution_count": 478,
   "metadata": {},
   "outputs": [
    {
     "data": {
      "text/plain": [
       "tensor([[[ 0.3241,  0.1901, -0.1976,  ..., -0.3044,  0.2508, -0.0703],\n",
       "         [ 0.3889, -0.5495,  0.2118,  ..., -0.3423,  0.1257,  0.3257],\n",
       "         [ 0.1388,  0.4705,  0.1219,  ..., -0.0422,  0.5497,  0.2824],\n",
       "         ...,\n",
       "         [ 0.3689,  0.2699,  0.0428,  ..., -0.2972,  0.0283,  0.1942],\n",
       "         [ 0.9507,  0.7776, -0.1776,  ..., -0.2889,  0.3156, -0.8389],\n",
       "         [ 0.8533,  0.7912, -0.1580,  ..., -0.2216,  0.3560, -0.7550]]])"
      ]
     },
     "execution_count": 478,
     "metadata": {},
     "output_type": "execute_result"
    }
   ],
   "source": [
    "out[0][0]"
   ]
  },
  {
   "cell_type": "code",
   "execution_count": 505,
   "metadata": {},
   "outputs": [],
   "source": [
    "layers = []\n",
    "\n",
    "for sentence in out:\n",
    "    a = sentence\n",
    "    layers.append(a[2])\n",
    "    "
   ]
  },
  {
   "cell_type": "markdown",
   "metadata": {},
   "source": [
    "### __Since the output for each word is the 768 values from the hidden layer, we will just sum the last four layers to avoid having to model with too many inputs (768 * 4 when concating). After the layers are summed, we will average them to achieve the sentence level output. We will also grab the second to last hidden layer as it showed good results and is more simple to gather.__"
   ]
  },
  {
   "cell_type": "markdown",
   "metadata": {},
   "source": [
    "## Second to last layer"
   ]
  },
  {
   "cell_type": "code",
   "execution_count": 594,
   "metadata": {},
   "outputs": [],
   "source": [
    "stl = []\n",
    "\n",
    "for sent in layers:\n",
    "    temp = []\n",
    "    a = sent[-2][0]\n",
    "\n",
    "    for i in range(1,len(a)-1):\n",
    "        temp.append(a[i])\n",
    "        \n",
    "    temp = torch.stack(temp)\n",
    "    average = torch.mean(temp, dim = 0)\n",
    "    stl.append(average)    "
   ]
  },
  {
   "cell_type": "code",
   "execution_count": 1,
   "metadata": {},
   "outputs": [],
   "source": [
    "stl[0]"
   ]
  },
  {
   "cell_type": "markdown",
   "metadata": {},
   "source": [
    "## Sum Last Four"
   ]
  },
  {
   "cell_type": "code",
   "execution_count": null,
   "metadata": {},
   "outputs": [],
   "source": [
    "summed_last_4_layers = torch.stack(encoded_layers[-4:]).sum(0)"
   ]
  },
  {
   "cell_type": "code",
   "execution_count": 654,
   "metadata": {},
   "outputs": [],
   "source": [
    "sl4 = []\n",
    "\n",
    "for sent in layers:\n",
    "    temp = []\n",
    "    a = torch.stack(sent[-4:]).sum(0)[0]\n",
    "    \n",
    "    for i in range(1,len(a)-1):\n",
    "        temp.append(a[i])\n",
    "    \n",
    "    temp = torch.stack(temp)\n",
    "    average = torch.mean(temp, dim = 0)\n",
    "    sl4.append(average)"
   ]
  },
  {
   "cell_type": "code",
   "execution_count": 2,
   "metadata": {},
   "outputs": [],
   "source": [
    "sl4[9]"
   ]
  },
  {
   "cell_type": "markdown",
   "metadata": {},
   "source": [
    "# Just need to setup train/test sets and model however desired using actual data"
   ]
  },
  {
   "cell_type": "code",
   "execution_count": 711,
   "metadata": {},
   "outputs": [],
   "source": [
    "mod_df = pd.DataFrame(sl4).astype(float)\n",
    "mod_df.insert(0, column = 'Text', value = df.Phrases)\n",
    "mod_df.insert(1, column = 'Type', value = 'WE')"
   ]
  },
  {
   "cell_type": "code",
   "execution_count": 712,
   "metadata": {
    "scrolled": true
   },
   "outputs": [
    {
     "data": {
      "text/html": [
       "<div>\n",
       "<style scoped>\n",
       "    .dataframe tbody tr th:only-of-type {\n",
       "        vertical-align: middle;\n",
       "    }\n",
       "\n",
       "    .dataframe tbody tr th {\n",
       "        vertical-align: top;\n",
       "    }\n",
       "\n",
       "    .dataframe thead th {\n",
       "        text-align: right;\n",
       "    }\n",
       "</style>\n",
       "<table border=\"1\" class=\"dataframe\">\n",
       "  <thead>\n",
       "    <tr style=\"text-align: right;\">\n",
       "      <th></th>\n",
       "      <th>Text</th>\n",
       "      <th>Type</th>\n",
       "      <th>0</th>\n",
       "      <th>1</th>\n",
       "      <th>2</th>\n",
       "      <th>3</th>\n",
       "      <th>4</th>\n",
       "      <th>5</th>\n",
       "      <th>6</th>\n",
       "      <th>7</th>\n",
       "      <th>...</th>\n",
       "      <th>758</th>\n",
       "      <th>759</th>\n",
       "      <th>760</th>\n",
       "      <th>761</th>\n",
       "      <th>762</th>\n",
       "      <th>763</th>\n",
       "      <th>764</th>\n",
       "      <th>765</th>\n",
       "      <th>766</th>\n",
       "      <th>767</th>\n",
       "    </tr>\n",
       "  </thead>\n",
       "  <tbody>\n",
       "    <tr>\n",
       "      <th>0</th>\n",
       "      <td>It's difficult to understand the lengths he'd ...</td>\n",
       "      <td>WE</td>\n",
       "      <td>0.779751</td>\n",
       "      <td>0.463859</td>\n",
       "      <td>-1.077339</td>\n",
       "      <td>-0.444047</td>\n",
       "      <td>1.092676</td>\n",
       "      <td>0.578188</td>\n",
       "      <td>1.016047</td>\n",
       "      <td>-0.175899</td>\n",
       "      <td>...</td>\n",
       "      <td>-0.465053</td>\n",
       "      <td>-0.375350</td>\n",
       "      <td>0.217992</td>\n",
       "      <td>1.234886</td>\n",
       "      <td>2.448724</td>\n",
       "      <td>2.094081</td>\n",
       "      <td>-0.027794</td>\n",
       "      <td>0.354875</td>\n",
       "      <td>-0.960346</td>\n",
       "      <td>0.856558</td>\n",
       "    </tr>\n",
       "    <tr>\n",
       "      <th>1</th>\n",
       "      <td>As he waited for the shower to warm, he notice...</td>\n",
       "      <td>WE</td>\n",
       "      <td>0.518125</td>\n",
       "      <td>-0.451973</td>\n",
       "      <td>0.031158</td>\n",
       "      <td>0.219552</td>\n",
       "      <td>-0.081289</td>\n",
       "      <td>-0.725243</td>\n",
       "      <td>-2.442196</td>\n",
       "      <td>-0.369982</td>\n",
       "      <td>...</td>\n",
       "      <td>-0.869822</td>\n",
       "      <td>2.957144</td>\n",
       "      <td>0.210037</td>\n",
       "      <td>-0.527262</td>\n",
       "      <td>0.103630</td>\n",
       "      <td>-0.817914</td>\n",
       "      <td>1.473112</td>\n",
       "      <td>-0.156885</td>\n",
       "      <td>-0.377877</td>\n",
       "      <td>1.518425</td>\n",
       "    </tr>\n",
       "    <tr>\n",
       "      <th>2</th>\n",
       "      <td>She hadn't had her cup of coffee, and that mad...</td>\n",
       "      <td>WE</td>\n",
       "      <td>-0.539996</td>\n",
       "      <td>0.397115</td>\n",
       "      <td>1.286446</td>\n",
       "      <td>1.129629</td>\n",
       "      <td>1.182055</td>\n",
       "      <td>-1.541052</td>\n",
       "      <td>0.496772</td>\n",
       "      <td>-0.102168</td>\n",
       "      <td>...</td>\n",
       "      <td>-1.660121</td>\n",
       "      <td>0.868636</td>\n",
       "      <td>-1.025013</td>\n",
       "      <td>0.464677</td>\n",
       "      <td>0.679336</td>\n",
       "      <td>0.206245</td>\n",
       "      <td>-0.230514</td>\n",
       "      <td>-0.368210</td>\n",
       "      <td>0.041995</td>\n",
       "      <td>0.435118</td>\n",
       "    </tr>\n",
       "    <tr>\n",
       "      <th>3</th>\n",
       "      <td>He would only survive if he kept the fire goin...</td>\n",
       "      <td>WE</td>\n",
       "      <td>0.374275</td>\n",
       "      <td>-0.210176</td>\n",
       "      <td>-0.130280</td>\n",
       "      <td>1.143175</td>\n",
       "      <td>-0.205650</td>\n",
       "      <td>1.401278</td>\n",
       "      <td>-0.570613</td>\n",
       "      <td>-0.699733</td>\n",
       "      <td>...</td>\n",
       "      <td>-0.440457</td>\n",
       "      <td>0.341022</td>\n",
       "      <td>-0.367665</td>\n",
       "      <td>-2.345187</td>\n",
       "      <td>0.287183</td>\n",
       "      <td>0.111930</td>\n",
       "      <td>1.835475</td>\n",
       "      <td>-0.010841</td>\n",
       "      <td>1.152818</td>\n",
       "      <td>0.009501</td>\n",
       "    </tr>\n",
       "    <tr>\n",
       "      <th>4</th>\n",
       "      <td>Car safety systems have come a long way, but h...</td>\n",
       "      <td>WE</td>\n",
       "      <td>2.318152</td>\n",
       "      <td>-0.117783</td>\n",
       "      <td>-0.276603</td>\n",
       "      <td>-0.325514</td>\n",
       "      <td>0.789369</td>\n",
       "      <td>0.876710</td>\n",
       "      <td>0.694458</td>\n",
       "      <td>0.949763</td>\n",
       "      <td>...</td>\n",
       "      <td>0.751523</td>\n",
       "      <td>0.077025</td>\n",
       "      <td>-0.315259</td>\n",
       "      <td>-0.753496</td>\n",
       "      <td>1.814947</td>\n",
       "      <td>0.393204</td>\n",
       "      <td>0.557759</td>\n",
       "      <td>0.858110</td>\n",
       "      <td>-0.210355</td>\n",
       "      <td>-0.396362</td>\n",
       "    </tr>\n",
       "    <tr>\n",
       "      <th>5</th>\n",
       "      <td>Thigh-high in the water, the fisherman's hope ...</td>\n",
       "      <td>WE</td>\n",
       "      <td>-2.035635</td>\n",
       "      <td>0.624270</td>\n",
       "      <td>0.002840</td>\n",
       "      <td>0.735095</td>\n",
       "      <td>-0.445517</td>\n",
       "      <td>-0.746429</td>\n",
       "      <td>-1.758533</td>\n",
       "      <td>-0.364582</td>\n",
       "      <td>...</td>\n",
       "      <td>-0.303138</td>\n",
       "      <td>1.441830</td>\n",
       "      <td>-1.607510</td>\n",
       "      <td>-1.082880</td>\n",
       "      <td>0.718783</td>\n",
       "      <td>0.415022</td>\n",
       "      <td>-1.570396</td>\n",
       "      <td>-0.909367</td>\n",
       "      <td>0.254326</td>\n",
       "      <td>0.975215</td>\n",
       "    </tr>\n",
       "    <tr>\n",
       "      <th>6</th>\n",
       "      <td>His thought process was on so many levels that...</td>\n",
       "      <td>WE</td>\n",
       "      <td>-0.166675</td>\n",
       "      <td>1.228272</td>\n",
       "      <td>-0.341451</td>\n",
       "      <td>-0.329376</td>\n",
       "      <td>1.605727</td>\n",
       "      <td>1.287688</td>\n",
       "      <td>0.022579</td>\n",
       "      <td>0.259486</td>\n",
       "      <td>...</td>\n",
       "      <td>-0.353859</td>\n",
       "      <td>-0.129783</td>\n",
       "      <td>-1.017377</td>\n",
       "      <td>-1.534938</td>\n",
       "      <td>0.913449</td>\n",
       "      <td>0.986670</td>\n",
       "      <td>-0.325879</td>\n",
       "      <td>0.485907</td>\n",
       "      <td>-0.282094</td>\n",
       "      <td>1.731229</td>\n",
       "    </tr>\n",
       "    <tr>\n",
       "      <th>7</th>\n",
       "      <td>The beauty of the African sunset disguised the...</td>\n",
       "      <td>WE</td>\n",
       "      <td>-0.482158</td>\n",
       "      <td>-0.830576</td>\n",
       "      <td>-0.321199</td>\n",
       "      <td>0.183615</td>\n",
       "      <td>0.293322</td>\n",
       "      <td>1.260046</td>\n",
       "      <td>0.018400</td>\n",
       "      <td>1.130800</td>\n",
       "      <td>...</td>\n",
       "      <td>0.951532</td>\n",
       "      <td>-0.412221</td>\n",
       "      <td>-1.065712</td>\n",
       "      <td>-1.454897</td>\n",
       "      <td>-0.413133</td>\n",
       "      <td>0.262133</td>\n",
       "      <td>-1.085583</td>\n",
       "      <td>-0.409519</td>\n",
       "      <td>0.455551</td>\n",
       "      <td>0.506798</td>\n",
       "    </tr>\n",
       "    <tr>\n",
       "      <th>8</th>\n",
       "      <td>She wondered what his eyes were saying beneath...</td>\n",
       "      <td>WE</td>\n",
       "      <td>-0.633242</td>\n",
       "      <td>0.494287</td>\n",
       "      <td>-0.071258</td>\n",
       "      <td>0.472556</td>\n",
       "      <td>0.765238</td>\n",
       "      <td>0.059299</td>\n",
       "      <td>0.833227</td>\n",
       "      <td>-0.550641</td>\n",
       "      <td>...</td>\n",
       "      <td>-0.706121</td>\n",
       "      <td>-0.043468</td>\n",
       "      <td>0.273298</td>\n",
       "      <td>0.662544</td>\n",
       "      <td>1.132228</td>\n",
       "      <td>1.107995</td>\n",
       "      <td>-0.959250</td>\n",
       "      <td>0.086180</td>\n",
       "      <td>2.175976</td>\n",
       "      <td>-0.002574</td>\n",
       "    </tr>\n",
       "    <tr>\n",
       "      <th>9</th>\n",
       "      <td>His mind was blown that there was nothing in s...</td>\n",
       "      <td>WE</td>\n",
       "      <td>-1.014395</td>\n",
       "      <td>-0.524544</td>\n",
       "      <td>-0.161416</td>\n",
       "      <td>-0.649734</td>\n",
       "      <td>1.475565</td>\n",
       "      <td>0.581016</td>\n",
       "      <td>-0.454156</td>\n",
       "      <td>1.051351</td>\n",
       "      <td>...</td>\n",
       "      <td>-0.449930</td>\n",
       "      <td>0.077927</td>\n",
       "      <td>-0.284302</td>\n",
       "      <td>-0.468678</td>\n",
       "      <td>1.210877</td>\n",
       "      <td>-0.169166</td>\n",
       "      <td>-0.929656</td>\n",
       "      <td>-0.397138</td>\n",
       "      <td>2.210522</td>\n",
       "      <td>0.337575</td>\n",
       "    </tr>\n",
       "  </tbody>\n",
       "</table>\n",
       "<p>10 rows × 770 columns</p>\n",
       "</div>"
      ],
      "text/plain": [
       "                                                Text Type         0         1  \\\n",
       "0  It's difficult to understand the lengths he'd ...   WE  0.779751  0.463859   \n",
       "1  As he waited for the shower to warm, he notice...   WE  0.518125 -0.451973   \n",
       "2  She hadn't had her cup of coffee, and that mad...   WE -0.539996  0.397115   \n",
       "3  He would only survive if he kept the fire goin...   WE  0.374275 -0.210176   \n",
       "4  Car safety systems have come a long way, but h...   WE  2.318152 -0.117783   \n",
       "5  Thigh-high in the water, the fisherman's hope ...   WE -2.035635  0.624270   \n",
       "6  His thought process was on so many levels that...   WE -0.166675  1.228272   \n",
       "7  The beauty of the African sunset disguised the...   WE -0.482158 -0.830576   \n",
       "8  She wondered what his eyes were saying beneath...   WE -0.633242  0.494287   \n",
       "9  His mind was blown that there was nothing in s...   WE -1.014395 -0.524544   \n",
       "\n",
       "          2         3         4         5         6         7  ...       758  \\\n",
       "0 -1.077339 -0.444047  1.092676  0.578188  1.016047 -0.175899  ... -0.465053   \n",
       "1  0.031158  0.219552 -0.081289 -0.725243 -2.442196 -0.369982  ... -0.869822   \n",
       "2  1.286446  1.129629  1.182055 -1.541052  0.496772 -0.102168  ... -1.660121   \n",
       "3 -0.130280  1.143175 -0.205650  1.401278 -0.570613 -0.699733  ... -0.440457   \n",
       "4 -0.276603 -0.325514  0.789369  0.876710  0.694458  0.949763  ...  0.751523   \n",
       "5  0.002840  0.735095 -0.445517 -0.746429 -1.758533 -0.364582  ... -0.303138   \n",
       "6 -0.341451 -0.329376  1.605727  1.287688  0.022579  0.259486  ... -0.353859   \n",
       "7 -0.321199  0.183615  0.293322  1.260046  0.018400  1.130800  ...  0.951532   \n",
       "8 -0.071258  0.472556  0.765238  0.059299  0.833227 -0.550641  ... -0.706121   \n",
       "9 -0.161416 -0.649734  1.475565  0.581016 -0.454156  1.051351  ... -0.449930   \n",
       "\n",
       "        759       760       761       762       763       764       765  \\\n",
       "0 -0.375350  0.217992  1.234886  2.448724  2.094081 -0.027794  0.354875   \n",
       "1  2.957144  0.210037 -0.527262  0.103630 -0.817914  1.473112 -0.156885   \n",
       "2  0.868636 -1.025013  0.464677  0.679336  0.206245 -0.230514 -0.368210   \n",
       "3  0.341022 -0.367665 -2.345187  0.287183  0.111930  1.835475 -0.010841   \n",
       "4  0.077025 -0.315259 -0.753496  1.814947  0.393204  0.557759  0.858110   \n",
       "5  1.441830 -1.607510 -1.082880  0.718783  0.415022 -1.570396 -0.909367   \n",
       "6 -0.129783 -1.017377 -1.534938  0.913449  0.986670 -0.325879  0.485907   \n",
       "7 -0.412221 -1.065712 -1.454897 -0.413133  0.262133 -1.085583 -0.409519   \n",
       "8 -0.043468  0.273298  0.662544  1.132228  1.107995 -0.959250  0.086180   \n",
       "9  0.077927 -0.284302 -0.468678  1.210877 -0.169166 -0.929656 -0.397138   \n",
       "\n",
       "        766       767  \n",
       "0 -0.960346  0.856558  \n",
       "1 -0.377877  1.518425  \n",
       "2  0.041995  0.435118  \n",
       "3  1.152818  0.009501  \n",
       "4 -0.210355 -0.396362  \n",
       "5  0.254326  0.975215  \n",
       "6 -0.282094  1.731229  \n",
       "7  0.455551  0.506798  \n",
       "8  2.175976 -0.002574  \n",
       "9  2.210522  0.337575  \n",
       "\n",
       "[10 rows x 770 columns]"
      ]
     },
     "execution_count": 712,
     "metadata": {},
     "output_type": "execute_result"
    }
   ],
   "source": [
    "mod_df"
   ]
  },
  {
   "cell_type": "code",
   "execution_count": null,
   "metadata": {},
   "outputs": [],
   "source": []
  },
  {
   "cell_type": "code",
   "execution_count": null,
   "metadata": {},
   "outputs": [],
   "source": []
  },
  {
   "cell_type": "markdown",
   "metadata": {},
   "source": [
    "# Same Transformation on Actual Data"
   ]
  },
  {
   "cell_type": "code",
   "execution_count": 4,
   "metadata": {},
   "outputs": [],
   "source": [
    "#Read in the actual Dataset\n",
    "df = pd.read_csv(combined_weather_data.csv)"
   ]
  },
  {
   "cell_type": "code",
   "execution_count": 5,
   "metadata": {},
   "outputs": [
    {
     "data": {
      "text/html": [
       "<style  type=\"text/css\" >\n",
       "</style><table id=\"T_e6206cca_b402_11ea_8030_e4b318e8f160\" ><thead>    <tr>        <th class=\"blank level0\" ></th>        <th class=\"col_heading level0 col0\" >text</th>        <th class=\"col_heading level0 col1\" >location</th>        <th class=\"col_heading level0 col2\" >screen_name</th>        <th class=\"col_heading level0 col3\" >follower_count</th>        <th class=\"col_heading level0 col4\" >retweets</th>        <th class=\"col_heading level0 col5\" >favorites</th>        <th class=\"col_heading level0 col6\" >verified</th>        <th class=\"col_heading level0 col7\" >Type</th>    </tr></thead><tbody>\n",
       "                <tr>\n",
       "                        <th id=\"T_e6206cca_b402_11ea_8030_e4b318e8f160level0_row0\" class=\"row_heading level0 row0\" >0</th>\n",
       "                        <td id=\"T_e6206cca_b402_11ea_8030_e4b318e8f160row0_col0\" class=\"data row0 col0\" >RT @PressTV: UPDATE:\n",
       "Death toll from Iran’s quake rises to 200\n",
       "#earthquake https://t.co/DklVc2VwKW</td>\n",
       "                        <td id=\"T_e6206cca_b402_11ea_8030_e4b318e8f160row0_col1\" class=\"data row0 col1\" >nan</td>\n",
       "                        <td id=\"T_e6206cca_b402_11ea_8030_e4b318e8f160row0_col2\" class=\"data row0 col2\" >hull_arturo</td>\n",
       "                        <td id=\"T_e6206cca_b402_11ea_8030_e4b318e8f160row0_col3\" class=\"data row0 col3\" >45</td>\n",
       "                        <td id=\"T_e6206cca_b402_11ea_8030_e4b318e8f160row0_col4\" class=\"data row0 col4\" >0</td>\n",
       "                        <td id=\"T_e6206cca_b402_11ea_8030_e4b318e8f160row0_col5\" class=\"data row0 col5\" >0</td>\n",
       "                        <td id=\"T_e6206cca_b402_11ea_8030_e4b318e8f160row0_col6\" class=\"data row0 col6\" >False</td>\n",
       "                        <td id=\"T_e6206cca_b402_11ea_8030_e4b318e8f160row0_col7\" class=\"data row0 col7\" >Earthquake</td>\n",
       "            </tr>\n",
       "            <tr>\n",
       "                        <th id=\"T_e6206cca_b402_11ea_8030_e4b318e8f160level0_row1\" class=\"row_heading level0 row1\" >1</th>\n",
       "                        <td id=\"T_e6206cca_b402_11ea_8030_e4b318e8f160row1_col0\" class=\"data row1 col0\" >RT @CAFOD: We pray for all those affected by the earthquake in Iraq and Iran https://t.co/qja8zQSuQe</td>\n",
       "                        <td id=\"T_e6206cca_b402_11ea_8030_e4b318e8f160row1_col1\" class=\"data row1 col1\" >Mill Hill, Blackburn</td>\n",
       "                        <td id=\"T_e6206cca_b402_11ea_8030_e4b318e8f160row1_col2\" class=\"data row1 col2\" >StAidanMillHill</td>\n",
       "                        <td id=\"T_e6206cca_b402_11ea_8030_e4b318e8f160row1_col3\" class=\"data row1 col3\" >129</td>\n",
       "                        <td id=\"T_e6206cca_b402_11ea_8030_e4b318e8f160row1_col4\" class=\"data row1 col4\" >0</td>\n",
       "                        <td id=\"T_e6206cca_b402_11ea_8030_e4b318e8f160row1_col5\" class=\"data row1 col5\" >0</td>\n",
       "                        <td id=\"T_e6206cca_b402_11ea_8030_e4b318e8f160row1_col6\" class=\"data row1 col6\" >False</td>\n",
       "                        <td id=\"T_e6206cca_b402_11ea_8030_e4b318e8f160row1_col7\" class=\"data row1 col7\" >Earthquake</td>\n",
       "            </tr>\n",
       "            <tr>\n",
       "                        <th id=\"T_e6206cca_b402_11ea_8030_e4b318e8f160level0_row2\" class=\"row_heading level0 row2\" >2</th>\n",
       "                        <td id=\"T_e6206cca_b402_11ea_8030_e4b318e8f160row2_col0\" class=\"data row2 col0\" >RT @ReutersWorld: JUST IN: Death toll reaches 328 in Iran earthquake - ISNA news agency https://t.co/FgRLptfk9l</td>\n",
       "                        <td id=\"T_e6206cca_b402_11ea_8030_e4b318e8f160row2_col1\" class=\"data row2 col1\" >대한민국 인천광역시 </td>\n",
       "                        <td id=\"T_e6206cca_b402_11ea_8030_e4b318e8f160row2_col2\" class=\"data row2 col2\" >ShayvsConnor18</td>\n",
       "                        <td id=\"T_e6206cca_b402_11ea_8030_e4b318e8f160row2_col3\" class=\"data row2 col3\" >256</td>\n",
       "                        <td id=\"T_e6206cca_b402_11ea_8030_e4b318e8f160row2_col4\" class=\"data row2 col4\" >0</td>\n",
       "                        <td id=\"T_e6206cca_b402_11ea_8030_e4b318e8f160row2_col5\" class=\"data row2 col5\" >0</td>\n",
       "                        <td id=\"T_e6206cca_b402_11ea_8030_e4b318e8f160row2_col6\" class=\"data row2 col6\" >False</td>\n",
       "                        <td id=\"T_e6206cca_b402_11ea_8030_e4b318e8f160row2_col7\" class=\"data row2 col7\" >Earthquake</td>\n",
       "            </tr>\n",
       "            <tr>\n",
       "                        <th id=\"T_e6206cca_b402_11ea_8030_e4b318e8f160level0_row3\" class=\"row_heading level0 row3\" >3</th>\n",
       "                        <td id=\"T_e6206cca_b402_11ea_8030_e4b318e8f160row3_col0\" class=\"data row3 col0\" >RT @LaylaAlhussein: A magnitude 7.2 earthquake struck northern Iraq in Erbil, Iraq, on November 12, 2017.\n",
       "#Iraq https://t.co/KSPmuNDPsk</td>\n",
       "                        <td id=\"T_e6206cca_b402_11ea_8030_e4b318e8f160row3_col1\" class=\"data row3 col1\" >Pakistan</td>\n",
       "                        <td id=\"T_e6206cca_b402_11ea_8030_e4b318e8f160row3_col2\" class=\"data row3 col2\" >sadiqshah2112</td>\n",
       "                        <td id=\"T_e6206cca_b402_11ea_8030_e4b318e8f160row3_col3\" class=\"data row3 col3\" >85</td>\n",
       "                        <td id=\"T_e6206cca_b402_11ea_8030_e4b318e8f160row3_col4\" class=\"data row3 col4\" >0</td>\n",
       "                        <td id=\"T_e6206cca_b402_11ea_8030_e4b318e8f160row3_col5\" class=\"data row3 col5\" >0</td>\n",
       "                        <td id=\"T_e6206cca_b402_11ea_8030_e4b318e8f160row3_col6\" class=\"data row3 col6\" >False</td>\n",
       "                        <td id=\"T_e6206cca_b402_11ea_8030_e4b318e8f160row3_col7\" class=\"data row3 col7\" >Earthquake</td>\n",
       "            </tr>\n",
       "            <tr>\n",
       "                        <th id=\"T_e6206cca_b402_11ea_8030_e4b318e8f160level0_row4\" class=\"row_heading level0 row4\" >4</th>\n",
       "                        <td id=\"T_e6206cca_b402_11ea_8030_e4b318e8f160row4_col0\" class=\"data row4 col0\" >Video: 7.2-magnitude earthquake jolts #Iran-Iraq border area; structural damage reported https://t.co/Jeh1EXMiyq  https://t.co/EmvW58Y6u4</td>\n",
       "                        <td id=\"T_e6206cca_b402_11ea_8030_e4b318e8f160row4_col1\" class=\"data row4 col1\" >nan</td>\n",
       "                        <td id=\"T_e6206cca_b402_11ea_8030_e4b318e8f160row4_col2\" class=\"data row4 col2\" >BehzadMoezi</td>\n",
       "                        <td id=\"T_e6206cca_b402_11ea_8030_e4b318e8f160row4_col3\" class=\"data row4 col3\" >6192</td>\n",
       "                        <td id=\"T_e6206cca_b402_11ea_8030_e4b318e8f160row4_col4\" class=\"data row4 col4\" >0</td>\n",
       "                        <td id=\"T_e6206cca_b402_11ea_8030_e4b318e8f160row4_col5\" class=\"data row4 col5\" >0</td>\n",
       "                        <td id=\"T_e6206cca_b402_11ea_8030_e4b318e8f160row4_col6\" class=\"data row4 col6\" >False</td>\n",
       "                        <td id=\"T_e6206cca_b402_11ea_8030_e4b318e8f160row4_col7\" class=\"data row4 col7\" >Earthquake</td>\n",
       "            </tr>\n",
       "    </tbody></table>"
      ],
      "text/plain": [
       "<pandas.io.formats.style.Styler at 0x16663faa308>"
      ]
     },
     "execution_count": 5,
     "metadata": {},
     "output_type": "execute_result"
    }
   ],
   "source": [
    "df.head().style"
   ]
  },
  {
   "cell_type": "code",
   "execution_count": 6,
   "metadata": {},
   "outputs": [],
   "source": [
    "# Let's encode some text in a sequence of hidden-states using each model:\n",
    "\n",
    "# Load pre-trained model tokenizer (vocabulary)\n",
    "tokenizer = BertTokenizer.from_pretrained('bert-base-cased')"
   ]
  },
  {
   "cell_type": "code",
   "execution_count": 3,
   "metadata": {},
   "outputs": [],
   "source": [
    "model = BertModel.from_pretrained('bert-base-cased', output_hidden_states = True)\n",
    "#We aren't training so this will improve performance\n",
    "model.eval()"
   ]
  },
  {
   "cell_type": "markdown",
   "metadata": {},
   "source": [
    "# Perform Conversion and Obtain Model Output"
   ]
  },
  {
   "cell_type": "code",
   "execution_count": 8,
   "metadata": {},
   "outputs": [],
   "source": [
    "sent_list = []\n",
    "\n",
    "for sent in df.text:\n",
    "    sent_list.append(tokenizer.encode_plus(sent, add_special_tokens = True))"
   ]
  },
  {
   "cell_type": "code",
   "execution_count": 1,
   "metadata": {
    "scrolled": true
   },
   "outputs": [],
   "source": [
    "out = []\n",
    "\n",
    "# No grad call stops gradient calculation since we are not training but just passing information\n",
    "with torch.no_grad():\n",
    "    for item in sent_list:\n",
    "        out.append(model(torch.tensor([item.input_ids]),torch.tensor([item.attention_mask])))"
   ]
  },
  {
   "cell_type": "markdown",
   "metadata": {},
   "source": [
    "# Get hidden layer outputs"
   ]
  },
  {
   "cell_type": "code",
   "execution_count": null,
   "metadata": {},
   "outputs": [],
   "source": [
    "layers = []\n",
    "\n",
    "for sentence in out:\n",
    "    a = sentence\n",
    "    layers.append(a[2])"
   ]
  },
  {
   "cell_type": "markdown",
   "metadata": {},
   "source": [
    "# Roll up Output\n",
    "__Using the sum of the last four layers as it showed better results__"
   ]
  },
  {
   "cell_type": "code",
   "execution_count": null,
   "metadata": {},
   "outputs": [],
   "source": [
    "sl4 = []\n",
    "\n",
    "for sent in layers:\n",
    "    temp = []\n",
    "    a = torch.stack(sent[-4:]).sum(0)[0]\n",
    "    \n",
    "    for i in range(1,len(a)-1):\n",
    "        temp.append(a[i])\n",
    "    \n",
    "    temp = torch.stack(temp)\n",
    "    average = torch.mean(temp, dim = 0)\n",
    "    sl4.append(average)"
   ]
  },
  {
   "cell_type": "markdown",
   "metadata": {},
   "source": [
    "# Get DataFrame Output to Easily Model"
   ]
  },
  {
   "cell_type": "code",
   "execution_count": 12,
   "metadata": {},
   "outputs": [
    {
     "data": {
      "text/html": [
       "<style  type=\"text/css\" >\n",
       "</style><table id=\"T_521e3476_a129_11ea_933a_e4b318e8f160\" ><thead>    <tr>        <th class=\"blank level0\" ></th>        <th class=\"col_heading level0 col0\" >text</th>        <th class=\"col_heading level0 col1\" >location</th>        <th class=\"col_heading level0 col2\" >screen_name</th>        <th class=\"col_heading level0 col3\" >follower_count</th>        <th class=\"col_heading level0 col4\" >retweets</th>        <th class=\"col_heading level0 col5\" >favorites</th>        <th class=\"col_heading level0 col6\" >verified</th>        <th class=\"col_heading level0 col7\" >Type</th>    </tr></thead><tbody>\n",
       "                <tr>\n",
       "                        <th id=\"T_521e3476_a129_11ea_933a_e4b318e8f160level0_row0\" class=\"row_heading level0 row0\" >0</th>\n",
       "                        <td id=\"T_521e3476_a129_11ea_933a_e4b318e8f160row0_col0\" class=\"data row0 col0\" >RT @PressTV: UPDATE:\n",
       "Death toll from Iran’s quake rises to 200\n",
       "#earthquake https://t.co/DklVc2VwKW</td>\n",
       "                        <td id=\"T_521e3476_a129_11ea_933a_e4b318e8f160row0_col1\" class=\"data row0 col1\" >nan</td>\n",
       "                        <td id=\"T_521e3476_a129_11ea_933a_e4b318e8f160row0_col2\" class=\"data row0 col2\" >hull_arturo</td>\n",
       "                        <td id=\"T_521e3476_a129_11ea_933a_e4b318e8f160row0_col3\" class=\"data row0 col3\" >45</td>\n",
       "                        <td id=\"T_521e3476_a129_11ea_933a_e4b318e8f160row0_col4\" class=\"data row0 col4\" >0</td>\n",
       "                        <td id=\"T_521e3476_a129_11ea_933a_e4b318e8f160row0_col5\" class=\"data row0 col5\" >0</td>\n",
       "                        <td id=\"T_521e3476_a129_11ea_933a_e4b318e8f160row0_col6\" class=\"data row0 col6\" >False</td>\n",
       "                        <td id=\"T_521e3476_a129_11ea_933a_e4b318e8f160row0_col7\" class=\"data row0 col7\" >Earthquake</td>\n",
       "            </tr>\n",
       "    </tbody></table>"
      ],
      "text/plain": [
       "<pandas.io.formats.style.Styler at 0x1bf247d0bc8>"
      ]
     },
     "execution_count": 12,
     "metadata": {},
     "output_type": "execute_result"
    }
   ],
   "source": [
    "df.head(1).style"
   ]
  },
  {
   "cell_type": "code",
   "execution_count": 15,
   "metadata": {},
   "outputs": [],
   "source": [
    "mod_df = pd.DataFrame(sl4).astype(float)\n",
    "mod_df.insert(0, column = 'text', value = df.text)\n",
    "mod_df.insert(1, column = 'type', value = df.Type)\n",
    "mod_df.insert(2, column = 'follower_count', value = df.follower_count)\n",
    "mod_df.insert(3, column = 'verified', value = df.verified)"
   ]
  },
  {
   "cell_type": "code",
   "execution_count": null,
   "metadata": {},
   "outputs": [],
   "source": []
  },
  {
   "cell_type": "markdown",
   "metadata": {},
   "source": [
    "## Example of Resulting Data Set"
   ]
  },
  {
   "cell_type": "code",
   "execution_count": 5,
   "metadata": {},
   "outputs": [
    {
     "data": {
      "text/html": [
       "<div>\n",
       "<style scoped>\n",
       "    .dataframe tbody tr th:only-of-type {\n",
       "        vertical-align: middle;\n",
       "    }\n",
       "\n",
       "    .dataframe tbody tr th {\n",
       "        vertical-align: top;\n",
       "    }\n",
       "\n",
       "    .dataframe thead th {\n",
       "        text-align: right;\n",
       "    }\n",
       "</style>\n",
       "<table border=\"1\" class=\"dataframe\">\n",
       "  <thead>\n",
       "    <tr style=\"text-align: right;\">\n",
       "      <th></th>\n",
       "      <th>text</th>\n",
       "      <th>type</th>\n",
       "      <th>follower_count</th>\n",
       "      <th>verified</th>\n",
       "      <th>0</th>\n",
       "      <th>1</th>\n",
       "      <th>2</th>\n",
       "      <th>3</th>\n",
       "      <th>4</th>\n",
       "      <th>5</th>\n",
       "      <th>...</th>\n",
       "      <th>758</th>\n",
       "      <th>759</th>\n",
       "      <th>760</th>\n",
       "      <th>761</th>\n",
       "      <th>762</th>\n",
       "      <th>763</th>\n",
       "      <th>764</th>\n",
       "      <th>765</th>\n",
       "      <th>766</th>\n",
       "      <th>767</th>\n",
       "    </tr>\n",
       "  </thead>\n",
       "  <tbody>\n",
       "    <tr>\n",
       "      <th>0</th>\n",
       "      <td>RT @PressTV: UPDATE:\\nDeath toll from Iran’s q...</td>\n",
       "      <td>Earthquake</td>\n",
       "      <td>45</td>\n",
       "      <td>False</td>\n",
       "      <td>-0.180702</td>\n",
       "      <td>-0.557254</td>\n",
       "      <td>-0.257066</td>\n",
       "      <td>0.247704</td>\n",
       "      <td>-0.116079</td>\n",
       "      <td>-1.246596</td>\n",
       "      <td>...</td>\n",
       "      <td>-1.880393</td>\n",
       "      <td>0.574295</td>\n",
       "      <td>-1.082280</td>\n",
       "      <td>-1.194331</td>\n",
       "      <td>-0.716398</td>\n",
       "      <td>-1.528029</td>\n",
       "      <td>-1.393145</td>\n",
       "      <td>1.733719</td>\n",
       "      <td>0.871081</td>\n",
       "      <td>3.009707</td>\n",
       "    </tr>\n",
       "    <tr>\n",
       "      <th>1</th>\n",
       "      <td>RT @CAFOD: We pray for all those affected by t...</td>\n",
       "      <td>Earthquake</td>\n",
       "      <td>129</td>\n",
       "      <td>False</td>\n",
       "      <td>0.332884</td>\n",
       "      <td>-1.345755</td>\n",
       "      <td>-0.410285</td>\n",
       "      <td>0.575408</td>\n",
       "      <td>-0.032268</td>\n",
       "      <td>-1.802706</td>\n",
       "      <td>...</td>\n",
       "      <td>-1.687065</td>\n",
       "      <td>0.718519</td>\n",
       "      <td>-1.029724</td>\n",
       "      <td>-0.767176</td>\n",
       "      <td>-0.032971</td>\n",
       "      <td>-1.298846</td>\n",
       "      <td>-1.810065</td>\n",
       "      <td>1.686207</td>\n",
       "      <td>0.579394</td>\n",
       "      <td>2.899038</td>\n",
       "    </tr>\n",
       "    <tr>\n",
       "      <th>2</th>\n",
       "      <td>RT @ReutersWorld: JUST IN: Death toll reaches ...</td>\n",
       "      <td>Earthquake</td>\n",
       "      <td>256</td>\n",
       "      <td>False</td>\n",
       "      <td>-0.339567</td>\n",
       "      <td>-1.182502</td>\n",
       "      <td>-0.533709</td>\n",
       "      <td>0.414308</td>\n",
       "      <td>-0.113260</td>\n",
       "      <td>-2.112401</td>\n",
       "      <td>...</td>\n",
       "      <td>-1.734978</td>\n",
       "      <td>0.265315</td>\n",
       "      <td>-0.387211</td>\n",
       "      <td>-1.872770</td>\n",
       "      <td>-0.245966</td>\n",
       "      <td>-2.044150</td>\n",
       "      <td>-1.692681</td>\n",
       "      <td>1.304106</td>\n",
       "      <td>1.558600</td>\n",
       "      <td>3.291314</td>\n",
       "    </tr>\n",
       "    <tr>\n",
       "      <th>3</th>\n",
       "      <td>RT @LaylaAlhussein: A magnitude 7.2 earthquake...</td>\n",
       "      <td>Earthquake</td>\n",
       "      <td>85</td>\n",
       "      <td>False</td>\n",
       "      <td>1.150446</td>\n",
       "      <td>-0.266334</td>\n",
       "      <td>-0.942941</td>\n",
       "      <td>0.596258</td>\n",
       "      <td>-0.945368</td>\n",
       "      <td>-1.232079</td>\n",
       "      <td>...</td>\n",
       "      <td>-1.013363</td>\n",
       "      <td>0.537306</td>\n",
       "      <td>-0.347581</td>\n",
       "      <td>-0.786124</td>\n",
       "      <td>-0.903818</td>\n",
       "      <td>-0.866392</td>\n",
       "      <td>-1.320476</td>\n",
       "      <td>1.485271</td>\n",
       "      <td>0.290309</td>\n",
       "      <td>1.867713</td>\n",
       "    </tr>\n",
       "    <tr>\n",
       "      <th>4</th>\n",
       "      <td>Video: 7.2-magnitude earthquake jolts #Iran-Ir...</td>\n",
       "      <td>Earthquake</td>\n",
       "      <td>6192</td>\n",
       "      <td>False</td>\n",
       "      <td>0.868155</td>\n",
       "      <td>-1.257778</td>\n",
       "      <td>0.021792</td>\n",
       "      <td>0.602206</td>\n",
       "      <td>-1.028045</td>\n",
       "      <td>-1.127659</td>\n",
       "      <td>...</td>\n",
       "      <td>-1.190339</td>\n",
       "      <td>0.817445</td>\n",
       "      <td>-1.245844</td>\n",
       "      <td>-1.677243</td>\n",
       "      <td>-0.206908</td>\n",
       "      <td>-1.712536</td>\n",
       "      <td>-1.538209</td>\n",
       "      <td>0.461534</td>\n",
       "      <td>0.934861</td>\n",
       "      <td>2.520552</td>\n",
       "    </tr>\n",
       "  </tbody>\n",
       "</table>\n",
       "<p>5 rows × 772 columns</p>\n",
       "</div>"
      ],
      "text/plain": [
       "                                                text        type  \\\n",
       "0  RT @PressTV: UPDATE:\\nDeath toll from Iran’s q...  Earthquake   \n",
       "1  RT @CAFOD: We pray for all those affected by t...  Earthquake   \n",
       "2  RT @ReutersWorld: JUST IN: Death toll reaches ...  Earthquake   \n",
       "3  RT @LaylaAlhussein: A magnitude 7.2 earthquake...  Earthquake   \n",
       "4  Video: 7.2-magnitude earthquake jolts #Iran-Ir...  Earthquake   \n",
       "\n",
       "   follower_count  verified         0         1         2         3         4  \\\n",
       "0              45     False -0.180702 -0.557254 -0.257066  0.247704 -0.116079   \n",
       "1             129     False  0.332884 -1.345755 -0.410285  0.575408 -0.032268   \n",
       "2             256     False -0.339567 -1.182502 -0.533709  0.414308 -0.113260   \n",
       "3              85     False  1.150446 -0.266334 -0.942941  0.596258 -0.945368   \n",
       "4            6192     False  0.868155 -1.257778  0.021792  0.602206 -1.028045   \n",
       "\n",
       "          5  ...       758       759       760       761       762       763  \\\n",
       "0 -1.246596  ... -1.880393  0.574295 -1.082280 -1.194331 -0.716398 -1.528029   \n",
       "1 -1.802706  ... -1.687065  0.718519 -1.029724 -0.767176 -0.032971 -1.298846   \n",
       "2 -2.112401  ... -1.734978  0.265315 -0.387211 -1.872770 -0.245966 -2.044150   \n",
       "3 -1.232079  ... -1.013363  0.537306 -0.347581 -0.786124 -0.903818 -0.866392   \n",
       "4 -1.127659  ... -1.190339  0.817445 -1.245844 -1.677243 -0.206908 -1.712536   \n",
       "\n",
       "        764       765       766       767  \n",
       "0 -1.393145  1.733719  0.871081  3.009707  \n",
       "1 -1.810065  1.686207  0.579394  2.899038  \n",
       "2 -1.692681  1.304106  1.558600  3.291314  \n",
       "3 -1.320476  1.485271  0.290309  1.867713  \n",
       "4 -1.538209  0.461534  0.934861  2.520552  \n",
       "\n",
       "[5 rows x 772 columns]"
      ]
     },
     "execution_count": 5,
     "metadata": {},
     "output_type": "execute_result"
    }
   ],
   "source": [
    "ex.head()"
   ]
  },
  {
   "cell_type": "code",
   "execution_count": null,
   "metadata": {},
   "outputs": [],
   "source": []
  }
 ],
 "metadata": {
  "kernelspec": {
   "display_name": "Python 3",
   "language": "python",
   "name": "python3"
  },
  "language_info": {
   "codemirror_mode": {
    "name": "ipython",
    "version": 3
   },
   "file_extension": ".py",
   "mimetype": "text/x-python",
   "name": "python",
   "nbconvert_exporter": "python",
   "pygments_lexer": "ipython3",
   "version": "3.7.4"
  }
 },
 "nbformat": 4,
 "nbformat_minor": 2
}
